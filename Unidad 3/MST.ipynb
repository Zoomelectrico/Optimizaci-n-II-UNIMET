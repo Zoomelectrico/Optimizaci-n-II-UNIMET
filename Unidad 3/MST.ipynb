{
 "cells": [
  {
   "cell_type": "markdown",
   "id": "ae0f6832",
   "metadata": {},
   "source": [
    "# Teoría de grafos\n",
    "\n",
    "## Ambiente de Trabajo\n",
    "\n",
    "De ahora en adelante vamos a estar trabajando constantemente con Python y con las herramientas cientificas que el ecosistema de este lenguaje nos provee, por tal razón, les recomiendo que se vayan familizariando con la herramienta.\n",
    "\n",
    "Es importante que aprendamos a trabajar con lógica básica de programación y que familizarecen con algunas estructuras de datos como las listas y los diccionarios\n",
    "\n",
    "## Revisar en notion la teoría\n",
    "\n",
    "[notion](https://www.notion.so/unimetopti2/Unidad-III-5d043d7d2eff40b68b8fc3abffef7ed1)\n",
    "## Instalar herramientas\n",
    "\n",
    "Si todo salio bien, deberían estar trabajando en un ambiente cientifico de python con el launcher de Anaconda, que les permite tener accesos entre muchas cosas a estos \"cuadernos\" llamados _jupyter noteboook_ en donde podrán ejecutar los ejemplos de clase y realizar sus ejercicios, pero antes de comenzar hay que asegurarnos de tener todo en orden, por eso les pido que ejecuten la siguiente celda y que revisen que todo esten en orden"
   ]
  },
  {
   "cell_type": "code",
   "execution_count": null,
   "id": "220ecb8c",
   "metadata": {
    "scrolled": false
   },
   "outputs": [],
   "source": [
    "!python --version && python3 --version\n",
    "print('*'*30)\n",
    "!python -m pip show scipy matplotlib numpy\n",
    "!pip install decorator==4.3"
   ]
  },
  {
   "cell_type": "markdown",
   "id": "aad083d9",
   "metadata": {},
   "source": [
    "## Graficar un grafo"
   ]
  },
  {
   "cell_type": "markdown",
   "id": "03e12a1a",
   "metadata": {},
   "source": [
    "Vamos a ver como graficar un Grafo/Digrafo en python, para ello vamos a utilizar una librería llamada [networkx](https://networkx.org/) la cual utiliza a [matplotlib](https://matplotlib.org/) una de las liberías mas utilizadas en python para graficar. _Networkx_ también nos va a permitir trabajar con varios algoritmos comunes de grafos.\n",
    "\n",
    "Entonces para empezar, hay que considerar lo que tiene la siguiente celda"
   ]
  },
  {
   "cell_type": "code",
   "execution_count": 3,
   "id": "2b98de8d",
   "metadata": {},
   "outputs": [],
   "source": [
    "%matplotlib inline \n",
    "import networkx as nx\n",
    "import matplotlib.pyplot as plt"
   ]
  },
  {
   "cell_type": "markdown",
   "id": "9a3bba03",
   "metadata": {},
   "source": [
    "En la celda anterior estamos importando las libreria que vamos a utilizar y tendremos acceso a ellas a través de los nombres `nx` y `plt` adicionalmente tenemos el comando `%matplotlib inline` que es un comando especial de los _jupyter notebooks_ que nos indica que las gráfica que matplotlib genere las va a colocar en inlinea dentro del notebook"
   ]
  },
  {
   "cell_type": "markdown",
   "id": "a11d93b8",
   "metadata": {},
   "source": [
    "Lo primero que vamos a hacer es crea un objeto que contenga la información de nuestro grafo, en este caso al ser un Digrafo tendremos que usar la clase [`nx.DiGraph`](https://networkx.org/documentation/stable/reference/classes/digraph.html) para crear nuestro digrafo.\n",
    "\n",
    "Después de ello procederemos a agregar los nodos utilizando el método `add_nodes_from` en donde pasaremos la lista de nodos (el conjunto $V$ de nuestro par ordenado $G$)\n",
    "\n",
    "Luego, utilizaremos el método `add_edges_from` agregaremos los arcos (el conjunto $E$ del par $G$) el cual esta compuesto por una lista de tuplas en donde la primera posición de la tupla $\\left(u,v\\right)$ es el origen ($u$) y la segunda el destino ($v$)\n",
    "\n",
    "Por último procedemos a graficar, la estructura utilizando el método [`nx.draw`](https://networkx.org/documentation/stable/reference/generated/networkx.drawing.nx_pylab.draw.html), que recibe como parametros un grafo y una [lista opciones](https://networkx.org/documentation/stable/reference/generated/networkx.drawing.nx_pylab.draw_networkx.html#networkx.drawing.nx_pylab.draw_networkx) para la gráfica\n"
   ]
  },
  {
   "cell_type": "code",
   "execution_count": 5,
   "id": "ae78a3d2",
   "metadata": {},
   "outputs": [
    {
     "data": {
      "image/png": "[encoded data removed]",
      "text/plain": [
       "<Figure size 432x288 with 1 Axes>"
      ]
     },
     "metadata": {},
     "output_type": "display_data"
    }
   ],
   "source": [
    "graph = nx.DiGraph()\n",
    "graph.add_nodes_from([1,2,3,4,5])\n",
    "graph.add_edges_from([(1,2), (1,3)])\n",
    "graph.add_edges_from([(2,3), (2,5)])\n",
    "graph.add_edges_from([(3,4), (3,5)])\n",
    "graph.add_edges_from([(4,2), (4,5)])\n",
    "\n",
    "nx.draw(graph, with_labels = True)"
   ]
  },
  {
   "cell_type": "markdown",
   "id": "964ba57d",
   "metadata": {},
   "source": [
    "🎉🎉🎉 Listo ya sabemos como graficar un grafo utilizando la librería _networkx_"
   ]
  },
  {
   "cell_type": "markdown",
   "id": "f6eaed0a",
   "metadata": {},
   "source": [
    "## Árbol de Expansión mínima\n",
    "\n",
    "El algoritmo llamado, árbol de expansión mínima o mínimo árbol de expansión, une a los nodos de una red usando el mínimo total de unidades necesarias para conectar a los nodos de un red. Un ejemplo clásico, es el problema pavimentar diferentes caminos que unan a todas la ciudades de un conjunto de poblaciones, bien sea de manera directa o indirecta (pasado por diferentes ciudades), para este ejemplo, el algoritmo provee el costo mínimo para construir las carreteras. (Taha, 2017)\n",
    "\n",
    "De acuerdo con Hillier y Lieberman, (2010) el problema del árbol de expansión mínima se puede caracterizar de la siguiente forma:\n",
    "\n",
    "1. Se tienen los nodos de una red pero no sus arcos definitivos, en vez se proporcionan los arcos potenciales y el costo de cada arco en la red.\n",
    "2. Se busca diseñar un red con suficientes arcos para conectar todos los nodos de la red\n",
    "3. El objetivo es diseñar dicha red minimizando el costo entre los arcos\n",
    "\n",
    "Hillier y Lieberman (2010; pág. 340) introducen el siguiente dato importante al momento de realizar esta clase de problemas \"Una red con n nodos requiere de sólo (n – 1) arcos para proporcionar una trayectoria entre cada par de nodos. No deben usarse más arcos puesto que ello aumentaría, sin necesidad, la longitud total de las ligaduras seleccionadas.\""
   ]
  },
  {
   "cell_type": "markdown",
   "id": "ecea9651",
   "metadata": {},
   "source": [
    "### Ejemplo Hillier y Lieberman (2010, pág. 342)\n",
    "\n",
    "![grafo](https://www.notion.so/image/https%3A%2F%2Fs3-us-west-2.amazonaws.com%2Fsecure.notion-static.com%2Fac8f585d-3802-4641-b9bf-7fea20f15021%2FScreenshot_from_2020-07-24_22-10-49_1.png?table=block&id=1dcebc0c-5902-4428-bb7c-bba8d9eddfd6&spaceId=42f53fcc-e6ec-4a21-9974-dff3ba50e637&width=1580&userId=7994855b-8314-4df8-abb9-04ba5ee1488c&cache=v2)"
   ]
  },
  {
   "cell_type": "markdown",
   "id": "e48bea24",
   "metadata": {},
   "source": [
    "Vamos a resolver este ejemplo utilizando 2 librerías adicionalmente en [notion]() pueden ver una implementación del algoritmo.\n",
    "\n",
    "Utilizando NetworkX, vamos a crear un objeto grafo al que llamaremos _G_ y utilizando el método `add_edge` vamos a agregar los arcos al mismo, y además los pesos de estos de esta manera tendremos la representación del mismo grafo del problema"
   ]
  },
  {
   "cell_type": "code",
   "execution_count": null,
   "id": "27fd280c",
   "metadata": {
    "scrolled": true
   },
   "outputs": [],
   "source": [
    "# Utilizando NetworkX\n",
    "G = nx.Graph()\n",
    "\n",
    "G.add_edge(1, 2, weight=2, size=2)\n",
    "G.add_edge(1, 3, weight=5, size=5)\n",
    "G.add_edge(1, 4, weight=4, size=4)\n",
    "\n",
    "G.add_edge(2, 3, weight=2, size=2)\n",
    "G.add_edge(2, 5, weight=7, size=7)\n",
    "\n",
    "G.add_edge(3, 4, weight=1, size=1)\n",
    "G.add_edge(3, 5, weight=3, size=3)\n",
    "G.add_edge(3, 6, weight=4, size=4)\n",
    "\n",
    "G.add_edge(4, 6, weight=4, size=4)\n",
    "\n",
    "G.add_edge(5, 6, weight=1, size=1)\n",
    "G.add_edge(5, 7, weight=7, size=7)\n",
    "\n",
    "G.add_edge(6, 7, weight=7, size=7)\n",
    "\n",
    "nx.draw(G, with_labels = True)"
   ]
  },
  {
   "cell_type": "markdown",
   "id": "0099946d",
   "metadata": {},
   "source": [
    "Luego haciendo uso del método [`nx.minimum_spanning_tree`](https://networkx.org/documentation/stable/reference/algorithms/generated/networkx.algorithms.tree.mst.minimum_spanning_tree.html#networkx.algorithms.tree.mst.minimum_spanning_tree) vamos a resolver el problema. Notesé que este método toma un parámetro que se llama _algorithm_ el cual nos permite escoger con cual algoritmo deseamos encontrar la solución las opciones para este valor son `kruskal`, `prim`, o `boruvka`."
   ]
  },
  {
   "cell_type": "code",
   "execution_count": null,
   "id": "e5af7532",
   "metadata": {},
   "outputs": [],
   "source": [
    "T = nx.minimum_spanning_tree(G, algorithm='prim')\n",
    "sorted(T.edges(data=True))"
   ]
  },
  {
   "cell_type": "markdown",
   "id": "4663ebb9",
   "metadata": {},
   "source": [
    "Este método devuelve, otro Grafo que representa al MST del problema, podemos utilizar el método `edges` para obtener los arcos del arbol y luego utilizar la función [sorted](https://www.programiz.com/python-programming/methods/built-in/sorted) de python para ver el orden de los nodos, también podemos utilizar el método draw para ver el mst que genero la librería"
   ]
  },
  {
   "cell_type": "code",
   "execution_count": null,
   "id": "a9f6d6b0",
   "metadata": {},
   "outputs": [],
   "source": [
    "nx.draw(T, with_labels = True)"
   ]
  },
  {
   "cell_type": "markdown",
   "id": "a4cf7c04",
   "metadata": {},
   "source": [
    "Como segundo método vamos a utilizar una de las librerías más utilizadas en la comunidad de python [scipy](https://docs.scipy.org/) para resolver los algoritmos de grafos con `scipy` es necesario utilizar una matriz de adyacencia la cual en nuestro caso nombraremos X y utilizaremos la función [`csr_matrix`](https://docs.scipy.org/doc/scipy/reference/generated/scipy.sparse.csr_matrix.html#scipy.sparse.csr_matrix) de `scipy.sparse` para poder almacener la información de esta dentro de un objeto que los algoritmos de scipy entienda.\n",
    "\n",
    "Luego podremos utilizar la función [`minimum_spanning_tree`](https://docs.scipy.org/doc/scipy/reference/generated/scipy.sparse.csgraph.minimum_spanning_tree.html) de `scipy.sparse.csgraph` para resolver el problema este método devuelve otra matriz la cual deberemos imprimir para ver el mst del problema, para ello"
   ]
  },
  {
   "cell_type": "code",
   "execution_count": null,
   "id": "2da6652e",
   "metadata": {},
   "outputs": [],
   "source": [
    "# Utilizando Scipy\n",
    "from scipy.sparse import csr_matrix\n",
    "from scipy.sparse.csgraph import minimum_spanning_tree\n",
    "X = csr_matrix([\n",
    "    #0,A,B,C,D,E,T\n",
    "    [2,5,4,0,0,0,0], #O\n",
    "    [2,0,2,0,7,0,0], #A\n",
    "    [5,2,0,1,4,3,0], #B\n",
    "    [4,0,1,0,0,4,0], #C\n",
    "    [0,7,4,0,0,1,5], #D\n",
    "    [0,0,3,4,1,0,7], #E\n",
    "    [0,0,0,0,0,0,0]  #T\n",
    "])\n",
    "tree = minimum_spanning_tree(X)\n",
    "\n",
    "print(tree.toarray().astype(int))"
   ]
  },
  {
   "cell_type": "markdown",
   "id": "c9fed365",
   "metadata": {},
   "source": [
    "🎉🎉🎉 Listo ya sabemos resolver un árbol de expansión mínima con python"
   ]
  },
  {
   "cell_type": "markdown",
   "id": "e2afaf1c",
   "metadata": {},
   "source": [
    "**Nota**: si quieren saber que significa las siglas csr hacen referencia a _Compressed Sparse Row_ y puede leer un poco más [acá](https://en.wikipedia.org/wiki/Sparse_matrix#Compressed_sparse_row_(CSR,_CRS_or_Yale_format))"
   ]
  }
 ],
 "metadata": {
  "kernelspec": {
   "display_name": "Python 3 (ipykernel)",
   "language": "python",
   "name": "python3"
  },
  "language_info": {
   "codemirror_mode": {
    "name": "ipython",
    "version": 3
   },
   "file_extension": ".py",
   "mimetype": "text/x-python",
   "name": "python",
   "nbconvert_exporter": "python",
   "pygments_lexer": "ipython3",
   "version": "3.8.11"
  }
 },
 "nbformat": 4,
 "nbformat_minor": 5
}
