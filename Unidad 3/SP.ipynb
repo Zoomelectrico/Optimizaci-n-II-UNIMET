{
 "cells": [
  {
   "cell_type": "markdown",
   "id": "ae0f6832",
   "metadata": {},
   "source": [
    "# Teoría de grafos"
   ]
  },
  {
   "cell_type": "markdown",
   "id": "f6eaed0a",
   "metadata": {},
   "source": [
    "## Ruta más Corta\n",
    "\n",
    "Este tipo de problema busca determinar la ruta más corta (menor costo) entre un nodo origen y un nodo destino en una red (Taha, 2017). Aunque, se puede considerar muy parecido al algoritmo de árbol mínimo de expansión, en este algoritmo no se necesita conectar a los nodos de la red, solamente conectar a los nodo necesarios para ir del nodo de salida al nodo de llegada."
   ]
  },
  {
   "cell_type": "markdown",
   "id": "ecea9651",
   "metadata": {},
   "source": [
    "### Ejemplo 6.3-6 (Taha, 2017)\n",
    "\n",
    "En la red  que se muestra en al Figura 2, suponga que se desea determinar la ruta más corta del nodo 1 al nodo 2, es decir, s=1 y t =2 . La figura 3 muestra cómo entra la unidad de flujo en el nodo 1 y sale en el nodo 2.\n",
    "\n",
    "![grafo](https://www.notion.so/image/https%3A%2F%2Fs3-us-west-2.amazonaws.com%2Fsecure.notion-static.com%2Fc7833c44-e15b-4593-a69f-cccefd8f58c4%2FScreenshot_from_2020-07-26_16-05-19_1.png?table=block&id=ba43a6c7-731e-4b9d-8ad6-5c1a0e393a96&spaceId=42f53fcc-e6ec-4a21-9974-dff3ba50e637&width=1260&userId=7994855b-8314-4df8-abb9-04ba5ee1488c&cache=v2)"
   ]
  },
  {
   "cell_type": "markdown",
   "id": "e48bea24",
   "metadata": {},
   "source": [
    "Vamos a resolver este ejemplo utilizando 2 librerías adicionalmente en [notion]() pueden ver una implementación del algoritmo."
   ]
  },
  {
   "cell_type": "code",
   "execution_count": 1,
   "id": "d9530ec3",
   "metadata": {},
   "outputs": [],
   "source": [
    "%matplotlib inline \n",
    "import networkx as nx\n",
    "import matplotlib.pyplot as plt\n",
    "from scipy.sparse import csr_matrix\n",
    "from scipy.sparse.csgraph import shortest_path"
   ]
  },
  {
   "cell_type": "code",
   "execution_count": 3,
   "id": "27fd280c",
   "metadata": {
    "scrolled": true
   },
   "outputs": [
    {
     "data": {
      "image/png": "[encoded data removed]",
      "text/plain": [
       "<Figure size 432x288 with 1 Axes>"
      ]
     },
     "metadata": {},
     "output_type": "display_data"
    }
   ],
   "source": [
    "# Utilizando NetworkX\n",
    "G = nx.DiGraph()\n",
    "\n",
    "G.add_edge(1, 2, weight=100, size=100)\n",
    "G.add_edge(1, 3, weight=30, size=30)\n",
    "\n",
    "G.add_edge(2, 3, weight=20, size=20)\n",
    "\n",
    "G.add_edge(3, 4, weight=10, size=10)\n",
    "G.add_edge(3, 5, weight=60, size=60)\n",
    "\n",
    "G.add_edge(4, 5, weight=50, size=50)\n",
    "G.add_edge(4, 2, weight=15, size=15)\n",
    "\n",
    "\n",
    "nx.draw(G, with_labels = True)"
   ]
  },
  {
   "cell_type": "markdown",
   "id": "0099946d",
   "metadata": {},
   "source": [
    "Luego haciendo uso del método [`nx.shortest_path`](https://networkx.org/documentation/stable/reference/algorithms/generated/networkx.algorithms.shortest_paths.generic.shortest_path.html#networkx.algorithms.shortest_paths.generic.shortest_path) vamos a resolver el problema. Notesé que este método toma un parámetro que se llama _method_ el cual nos permite escoger con cual algoritmo deseamos encontrar la solución las opciones para este valor son `dijkstra` o `bellman-ford`.\n",
    "\n",
    "Adicionalmente, el método acepta 3 parámetros más; _source_ y _target_ son los nodos de origen y destino del problema,  y el parámetro _weight_ es el cual le indica a la librería cual atributo de los arcos utilizar para calcular la distacia."
   ]
  },
  {
   "cell_type": "code",
   "execution_count": 8,
   "id": "e5af7532",
   "metadata": {},
   "outputs": [
    {
     "name": "stdout",
     "output_type": "stream",
     "text": [
      "[1, 3, 4, 2]\n"
     ]
    }
   ],
   "source": [
    "path = nx.shortest_path(G, weight=\"weight\", source=1, target=2)\n",
    "print(path)"
   ]
  },
  {
   "cell_type": "markdown",
   "id": "a4cf7c04",
   "metadata": {},
   "source": [
    "Luego vamos a resolver el problema utilizando la librería scipy y especificamente la función `shortest_path`"
   ]
  },
  {
   "cell_type": "code",
   "execution_count": 9,
   "id": "2da6652e",
   "metadata": {},
   "outputs": [
    {
     "name": "stdout",
     "output_type": "stream",
     "text": [
      "[[-9999     3     0     2     2]\n",
      " [-9999 -9999     1     2     2]\n",
      " [-9999     3 -9999     2     2]\n",
      " [-9999     3     1 -9999     3]\n",
      " [-9999 -9999 -9999 -9999 -9999]]\n"
     ]
    }
   ],
   "source": [
    "# Utilizando Scipy\n",
    "X = csr_matrix([\n",
    "    #1,   2,  3,  4, 5\n",
    "    [0, 100, 30,  0,  0], #1\n",
    "    [0,   0, 20,  0,  0], #2\n",
    "    [0,   0,  0, 10, 60], #3\n",
    "    [0,  15,  0,  0, 50], #4\n",
    "    [0,   0,  0,  0,  0], #5\n",
    "])\n",
    "\n",
    "dist_matrix, predecessors = shortest_path(csgraph=X, directed=True, return_predecessors=True)\n",
    "\n",
    "print(predecessors)"
   ]
  },
  {
   "cell_type": "markdown",
   "id": "c9fed365",
   "metadata": {},
   "source": [
    "🎉🎉🎉 Listo ya sabemos resolver un árbol de expansión mínima con python"
   ]
  },
  {
   "cell_type": "markdown",
   "id": "e2afaf1c",
   "metadata": {},
   "source": [
    "**Nota**: si quieren saber que significa las siglas csr hacen referencia a _Compressed Sparse Row_ y puede leer un poco más [acá](https://en.wikipedia.org/wiki/Sparse_matrix#Compressed_sparse_row_(CSR,_CRS_or_Yale_format))"
   ]
  }
 ],
 "metadata": {
  "interpreter": {
   "hash": "9e7387a5636493bd75ad1b0259dbaace89d25b8fdd93ffaba5f577560c74ce6b"
  },
  "kernelspec": {
   "display_name": "Python 3 (ipykernel)",
   "language": "python",
   "name": "python3"
  },
  "language_info": {
   "codemirror_mode": {
    "name": "ipython",
    "version": 3
   },
   "file_extension": ".py",
   "mimetype": "text/x-python",
   "name": "python",
   "nbconvert_exporter": "python",
   "pygments_lexer": "ipython3",
   "version": "3.8.11"
  }
 },
 "nbformat": 4,
 "nbformat_minor": 5
}
