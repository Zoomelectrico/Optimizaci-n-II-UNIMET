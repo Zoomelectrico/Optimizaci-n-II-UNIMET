{
 "cells": [
  {
   "cell_type": "markdown",
   "id": "65e65c46",
   "metadata": {},
   "source": [
    "# Programación Meta\n",
    "\n",
    "## Ambiente de Trabajo\n",
    "\n",
    "De ahora en adelante vamos a estar trabajando constantemente con Python y con las herramientas cientificas que el ecosistema de este lenguaje nos provee, por tal razón, les recomiendo que se vayan familizariando con la herramienta.\n",
    "\n",
    "Es importante que aprendamos a trabajar con lógica básica de programación y que familizarecen con algunas estructuras de datos como las listas y los diccionarios\n",
    "\n",
    "## Planteamiento del Problema de PM\n",
    "\n",
    "Ante cualquier problema o realizar alguna practica es importante que revisen el contenido de planteamiento de problema con Programación Meta, vayan a [notion](https://www.notion.so/unimetopti2/Planteamiento-del-Problema-con-PM-f1e328dbb4024b47bdaaa7733bdd794c) lean el tema y vuelvan, si ya lo hicieron continuen a la siguiente sección\n",
    "\n",
    "## Instalar herramientas\n",
    "\n",
    "Si todo salio bien, deberían estar trabajando en un ambiente cientifico de python con el launcher de Anaconda, que les permite tener accesos entre muchas cosas a estos \"cuadernos\" llamados _jupyter noteboook_ en donde podrán ejecutar los ejemplos de clase y realizar sus ejercicios, pero antes de comenzar hay que asegurarnos de tener todo en orden, por eso les pido que ejecuten la siguiente celda y que revisen que todo esten en orden"
   ]
  },
  {
   "cell_type": "code",
   "execution_count": null,
   "id": "97c25188",
   "metadata": {},
   "outputs": [],
   "source": [
    "!python --version && python3 --version\n",
    "print('*'*30)\n",
    "!python -m pip show scipy matplotlib numpy sympy"
   ]
  },
  {
   "cell_type": "markdown",
   "id": "3b36de98",
   "metadata": {},
   "source": [
    "Si todo salio bien su output debe ser parecido al siguiente\n",
    "```shell\n",
    "Python 3.8.8\n",
    "Python 3.8.8\n",
    "******************************\n",
    "Name: scipy\n",
    "Version: 1.6.2\n",
    "Summary: SciPy: Scientific Library for Python\n",
    "Home-page: https://www.scipy.org\n",
    "Author: None\n",
    "Author-email: None\n",
    "License: BSD\n",
    "Location: /Users/zoomelectrico/opt/anaconda3/lib/python3.8/site-packages\n",
    "Requires: numpy\n",
    "Required-by: statsmodels, seaborn, scikit-learn, scikit-image\n",
    "---\n",
    "Name: matplotlib\n",
    "Version: 3.3.4\n",
    "Summary: Python plotting package\n",
    "Home-page: https://matplotlib.org\n",
    "Author: John D. Hunter, Michael Droettboom\n",
    "Author-email: matplotlib-users@python.org\n",
    "License: PSF\n",
    "Location: /Users/zoomelectrico/opt/anaconda3/lib/python3.8/site-packages\n",
    "Requires: kiwisolver, cycler, numpy, pyparsing, python-dateutil, pillow\n",
    "Required-by: seaborn, scikit-image\n",
    "\n",
    "```"
   ]
  },
  {
   "cell_type": "markdown",
   "id": "a5e19cef",
   "metadata": {},
   "source": [
    "### Instalar OR Tools\n",
    "\n",
    "Uno de los paquetes con los que vamos a trabajar no viene instalado por defecto con Anaconda, para instalarlo solo ejecuten la siguiente celda"
   ]
  },
  {
   "cell_type": "code",
   "execution_count": null,
   "id": "7eebf4c8",
   "metadata": {},
   "outputs": [],
   "source": [
    "!python -m pip install -U --user ortools"
   ]
  },
  {
   "cell_type": "markdown",
   "id": "2eef82e3",
   "metadata": {},
   "source": [
    "Para comprobar que todo salio bien, solamente hay que ejecutar la siguiente celda y asegurarse que el resultado sea similar al siguiente:\n",
    "\n",
    "```shell\n",
    "Name: ortools\n",
    "Version: 9.0.9048\n",
    "Summary: Google OR-Tools python libraries and modules\n",
    "Home-page: https://developers.google.com/optimization/\n",
    "Author: Google LLC\n",
    "Author-email: or-tools@google.com\n",
    "License: Apache 2.0\n",
    "Location: /Users/zoomelectrico/.local/lib/python3.8/site-packages\n",
    "Requires: absl-py, protobuf\n",
    "Required-by: \n",
    "```"
   ]
  },
  {
   "cell_type": "code",
   "execution_count": null,
   "id": "96b92570",
   "metadata": {
    "scrolled": true
   },
   "outputs": [],
   "source": [
    "! python -m pip show ortools"
   ]
  },
  {
   "cell_type": "markdown",
   "id": "8061379e",
   "metadata": {},
   "source": [
    "**Felicidades 🎉** En este momento acabas de terminar de asegurar que todo tu ambiente de trabajo esta listo para el curso así que empecemos con algunos elementos clave de la clase."
   ]
  },
  {
   "cell_type": "markdown",
   "id": "e5726eeb",
   "metadata": {},
   "source": [
    "## Graficando el Python\n",
    "\n",
    "Vamos a aprender a graficar utilizando la librería matplotlib para poder visualizar nuestros problemas de PM"
   ]
  },
  {
   "cell_type": "code",
   "execution_count": 1,
   "id": "e723b984",
   "metadata": {},
   "outputs": [],
   "source": [
    "%matplotlib inline\n",
    "import matplotlib.pyplot as plt\n",
    "import numpy as np\n",
    "from sympy.solvers import solve\n",
    "from sympy import Symbol"
   ]
  },
  {
   "cell_type": "code",
   "execution_count": 2,
   "id": "d174f4a7",
   "metadata": {},
   "outputs": [
    {
     "data": {
      "text/plain": [
       "[<matplotlib.lines.Line2D at 0x7fe3280531c0>]"
      ]
     },
     "execution_count": 2,
     "metadata": {},
     "output_type": "execute_result"
    },
    {
     "data": {
      "image/png": "[encoded data removed]",
      "text/plain": [
       "<Figure size 432x288 with 1 Axes>"
      ]
     },
     "metadata": {
      "needs_background": "light"
     },
     "output_type": "display_data"
    }
   ],
   "source": [
    "# Hagamos nuestra primera gráfica\n",
    "fig, ax = plt.subplots()  \n",
    "ax.plot([1, 2, 3, 4], [1, 4, 2, 3])"
   ]
  },
  {
   "cell_type": "markdown",
   "id": "ec75237e",
   "metadata": {},
   "source": [
    "Conversemos sobre la gráfica\n",
    "\n",
    "1. `fig, ax = plt.subplots()`: Con esta linea de código estamos creando dos objetos, el primero es la figura (figuro) que el contenedor de todo nuestro objeto y lo segungo que los ejes (axes) que no es mas que el plano en donde vamos a gráficar.\n",
    "2. `ax.plot([1, 2, 3, 4], [1, 4, 2, 3])`: Con esta linea de código estamos haciendo graficando sobre los ejes que tenemos disponibles"
   ]
  },
  {
   "cell_type": "markdown",
   "id": "6ec1408a",
   "metadata": {},
   "source": [
    "## Ejemplo\n",
    "\n",
    "Veamos un ejemplo de como podemos pasar de un PPM a una serie de gráficas en python\n",
    "\n",
    "Ej.\n",
    "\n",
    "Una empresa de manufactura produce 2 tipos de productos (A y B). De acuerdo, a su experiencia, producir tanto A como B, requiere en promedio 1 hora en la planta. La planta cuenta con un máximo de 400 horas hombre mensuales. Por otra parte, el departamento de mercadeo de la firma reporta que dado la fuerte competencia, el producto A tiene un cuota de mercado de 240 unidades y el B de 300. Las ganancias por ventas de A son $800 y de B $400. El gerente de la empresa ha organizado las siguientes metas por orden de importancia:\n",
    "\n",
    "1. Evitar el tiempo ocioso en la planta\n",
    "2. Vender la mayor cantidad de productos posibles, sin embargo, sabiendo que el margen del producto A es el doble del producto B, el gerente desea que se vendan 2 veces mas productos A que B\n",
    "3. Evitar el sobre tiempo de la planta, dentro de lo posible."
   ]
  },
  {
   "cell_type": "markdown",
   "id": "f198bbf5",
   "metadata": {},
   "source": [
    "$$ \n",
    "\\min(Z) = s^{-}_{1} + s^{-}_{2} + s^{-}_{3} + s^{+}_{1} \\\\\n",
    "x_1+x_2+s^{-}_{1}-s^{+}_{1} = 400 \\\\\n",
    "x_1 + s^{-}_{2} - s^{+}_{2} = 240 \\\\ \n",
    "x_2 + s^{-}_{3} - s^{+}_{3} = 300 \\\\\n",
    "$$"
   ]
  },
  {
   "cell_type": "code",
   "execution_count": 20,
   "id": "2cfa1443",
   "metadata": {
    "scrolled": true
   },
   "outputs": [
    {
     "data": {
      "text/plain": [
       "Text(250, 170, 'C')"
      ]
     },
     "execution_count": 20,
     "metadata": {},
     "output_type": "execute_result"
    },
    {
     "data": {
      "image/png": "[encoded data removed]",
      "text/plain": [
       "<Figure size 432x288 with 1 Axes>"
      ]
     },
     "metadata": {
      "needs_background": "light"
     },
     "output_type": "display_data"
    }
   ],
   "source": [
    "# Expresemos todas las restricciones en función de x_2\n",
    "# Para este caso no debe considerar las desviaciones en la gráfica\n",
    "\n",
    "fig, ax = plt.subplots() \n",
    "x_1 = np.arange(-10, 410)\n",
    "# x_2 = 400 - x_1\n",
    "r_1 = 400 - x_1\n",
    "ax.plot(x_1, r_1)\n",
    "# x_1 = 240\n",
    "r_2 = np.full((len(x_1),), 240)\n",
    "plt.vlines(240, 0, 400, colors='red')\n",
    "# x2 = 300\n",
    "r_3 = np.full((len(x_1), ), 300)\n",
    "ax.plot(x_1, r_3, c='green')\n",
    "\n",
    "# Ejes\n",
    "plt.vlines(0, -1, 450, colors='grey')\n",
    "plt.hlines(0, -1, 450, colors='grey')\n",
    "\n",
    "# Puntos de intersección\n",
    "plt.plot(100, 300, 'ro')\n",
    "plt.plot(240, 300, 'ro')\n",
    "plt.plot(240, 160, 'ro')\n",
    "\n",
    "# Ejes Anotaciones\n",
    "plt.title('Gráfica del ejemplo')\n",
    "plt.xlabel(r'$x_1$')\n",
    "plt.ylabel(r'$x_2$')\n",
    "plt.annotate('A', xy=(110, 310))\n",
    "plt.annotate('B', xy=(250, 310))\n",
    "plt.annotate('C', xy=(250, 170))"
   ]
  },
  {
   "cell_type": "markdown",
   "id": "74236757",
   "metadata": {},
   "source": [
    "Al evaluar los puntos en la gráfica podemos observar que el que produce el mejor resultado es el **B** ya que este es quien miniza el valor de la función objetivo\n",
    "$$ \n",
    "x_1 = 240 \\\\ x_2 = 300 \\\\ s^{-}_{1} = s^{-}_{2} = s^{-}_{3} = 0 \\\\ s^{+}_{1} = 140\n",
    "$$"
   ]
  }
 ],
 "metadata": {
  "kernelspec": {
   "display_name": "Python 3",
   "language": "python",
   "name": "python3"
  },
  "language_info": {
   "codemirror_mode": {
    "name": "ipython",
    "version": 3
   },
   "file_extension": ".py",
   "mimetype": "text/x-python",
   "name": "python",
   "nbconvert_exporter": "python",
   "pygments_lexer": "ipython3",
   "version": "3.8.8"
  }
 },
 "nbformat": 4,
 "nbformat_minor": 5
}
