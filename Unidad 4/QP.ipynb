{
 "cells": [
  {
   "cell_type": "markdown",
   "id": "3c7275b2",
   "metadata": {},
   "source": [
    "# Programación No Lineal\n",
    "\n",
    "## Programación Cuadratica\n",
    "\n",
    "Los problemas de programación cuadrática tienen restricciones lineales, pero ahora la función objetivo $f(x)$ debe ser cuadrática. Entonces, la única diferencia entre éstos y un problema de programación lineal es que algunos términos de la función objetivo incluyen el cuadrado de una variable o el producto de dos variables. Un modelo de programación cuadrática se define como:\n",
    "\n",
    "$$\n",
    "\\max \\: Z = CX + X^TDX\n",
    "$$\n",
    "sujeto a\n",
    "\n",
    "$$\n",
    "AX \\le b \\\\[8pt]\n",
    "X \\ge 0\n",
    "$$\n",
    "\n",
    "En donde,\n",
    "$$\n",
    "X = \\left(x_1, x_2, \\dots, x_n \\right)^T \\\\[8pt]\n",
    "C = \\left(c_1, c_2, \\dots, c_n \\right) \\\\[8pt]\n",
    "b = \\left(b_1, b_2, \\dots, b_n \\right)^T \\\\[8pt]\n",
    "$$\n",
    "$$\n",
    "A = \\begin{pmatrix}\n",
    "a_{11} & \\dots  & a_{1n} \\\\ \n",
    "\\vdots & \\vdots & \\vdots \\\\ \n",
    "a_{m1} & \\dots  & a_{mn} \\\\\n",
    "\\end{pmatrix} \\\\[8pt]\n",
    "$$\n",
    "$$\n",
    "D = \\begin{pmatrix}\n",
    "d_{11} & \\dots  & d_{1n} \\\\ \n",
    "\\vdots & \\vdots & \\vdots \\\\ \n",
    "d_{m1} & \\dots  & d_{mn} \\\\\n",
    "\\end{pmatrix} \\\\[8pt]\n",
    "$$\n",
    "\n",
    "(Taha, 2017; Hillier & Lieberman, 2010)"
   ]
  },
  {
   "cell_type": "markdown",
   "id": "a68c956b",
   "metadata": {},
   "source": [
    "La función $X^TDX$ define una forma cuadrática. Se supone que la matriz $D$ es simétrica y definida negativa, es decir que $z$ es estrictamente cóncava. Las restricciones son lineales, lo que garantiza un espacio de soluciones convexo.\n",
    "\n",
    "La solución de este problema se basa en las condiciones **KKT** necesarias. Estas condiciones también son suficientes porque $z$ es cóncava y el espacio de soluciones es un conjunto convexo. El problema de programación cuadrática se tratará para el caso de maximización. La conversión a minimización es simple. El problema puede escribirse como:\n",
    "\n",
    "$$\n",
    "\\max z = CX + X^TDX\n",
    "$$\n",
    "\n",
    "sujeto a\n",
    "\n",
    "$$\n",
    "G(X) = \\begin{pmatrix}A \\\\ -I \\end{pmatrix}X - \\begin{pmatrix}b \\\\ 0 \\end{pmatrix} \\le 0\n",
    "$$\n",
    "\n",
    "Sean\n",
    "\n",
    "$$\n",
    "\\lambda = \\left(\\lambda_1, \\lambda_2, \\dots, \\lambda_n \\right)^T \\\\[8 pt]\n",
    "U = \\left(\\mu_1, \\mu_2, \\dots, \\mu_n \\right)^T\n",
    "$$\n",
    "\n",
    "los multiplicadores de Lagrange correspondientes a las restricciones $AX - b \\le 0$ y $-X \\le 0$, respectivamente. La aplicación de las condiciones KKT produce:\n",
    "\n",
    "$$\n",
    "\\begin{pmatrix}\n",
    "-2D & A^T & -I & 0\\\\ \n",
    "  A &   0 &  0 & I\n",
    "\\end{pmatrix}\\begin{pmatrix}\n",
    "X\\\\ \n",
    "\\lambda\\\\ \n",
    "U\\\\\n",
    "S \n",
    "\\end{pmatrix} = \\begin{pmatrix}\n",
    "C^T\\\\ \n",
    "b\n",
    "\\end{pmatrix}\n",
    "$$\n",
    "\n",
    "$\\mu_jx_j = 0 = \\lambda_iS_i$, para todas las $i$ y $j$\n",
    "\n",
    "$\\lambda, U, X, S \\ge 0$\n",
    "\n",
    "En donde $S = b - AX \\ge 0$ son las variables de holgura de las restricciones.\n",
    "\n",
    "**Nota**: A través de esta transformación es posible resolver el problema utilizando el método de las dos fases de PL\n",
    "\n",
    "(Taha, 2017)"
   ]
  },
  {
   "cell_type": "markdown",
   "id": "d91c9787",
   "metadata": {},
   "source": [
    "### Otra forma para representar el problema (la más común)\n",
    "\n",
    "$$\n",
    "\\max f(x) = \\mathbf{cx} - \\frac{1}{2}\\mathbf{x^TQx}\n",
    "$$\n",
    "\n",
    "sujeto a\n",
    "\n",
    "$$\n",
    "\\mathbf{Ax \\le b} \\\\\n",
    "\\mathbf{x \\ge 0} \\\\\n",
    "$$\n",
    "\n",
    "Las $q_{ij}$ (elementos de $Q$) son constantes dadas tales que $q_{ij} = q_{ji}$ (que es la razón para que aparezca el factor de $\\frac{1}{2}$ en la función objetivo). Por lo tanto, para $x_i^2$ el coeficiente será $-2q_{ij}$ y para $x_{ij}$ su coeficiente será $-q_{ij}$"
   ]
  },
  {
   "cell_type": "markdown",
   "id": "6f73407a",
   "metadata": {},
   "source": [
    "### Ejemplo\n",
    "\n",
    "Antes de empezar a trabajar, es importante instalar la libreria [`cvxopt`](https://cvxopt.org/index.html) para ello ejecuta la siguiente celda"
   ]
  },
  {
   "cell_type": "code",
   "execution_count": 3,
   "id": "38a72259",
   "metadata": {},
   "outputs": [
    {
     "name": "stdout",
     "output_type": "stream",
     "text": [
      "Collecting cvxopt\n",
      "  Downloading cvxopt-1.2.7-cp38-cp38-macosx_10_9_x86_64.whl (3.1 MB)\n",
      "\u001b[K     |████████████████████████████████| 3.1 MB 1.0 MB/s eta 0:00:01\n",
      "\u001b[?25hInstalling collected packages: cvxopt\n",
      "Successfully installed cvxopt-1.2.7\n",
      "Name: cvxopt\n",
      "Version: 1.2.7\n",
      "Summary: Convex optimization package\n",
      "Home-page: http://cvxopt.org\n",
      "Author: M. Andersen, J. Dahl, and L. Vandenberghe\n",
      "Author-email: martin.skovgaard.andersen@gmail.com, dahl.joachim@gmail.com, vandenbe@ee.ucla.edu\n",
      "License: GNU GPL version 3\n",
      "Location: /Users/zoomelectrico/opt/anaconda3/lib/python3.8/site-packages\n",
      "Requires: \n",
      "Required-by: \n"
     ]
    }
   ],
   "source": [
    "!pip install cvxopt\n",
    "!python -m pip show cvxopt"
   ]
  },
  {
   "cell_type": "markdown",
   "id": "28f0fb43",
   "metadata": {},
   "source": [
    "### Ejemplo\n",
    "\n",
    "$$ \n",
    "\\max f(x_1, x_2) =15x_1 + 30x_2 + 4x_1x_2 - 2x_1^2 - 4x_2^2\n",
    "$$\n",
    "sujeto a\n",
    "$$\n",
    "x_1 +2x_2 \\le 30 \\\\[8 pt]\n",
    "x_1, x_2 \\ge 0\n",
    "$$\n",
    "\n",
    "En este caso:\n",
    "\n",
    "$$\n",
    "\\mathbf{c} = \\begin{bmatrix}15 & 30\\end{bmatrix} \\\\[8pt]\n",
    "\\mathbf{x} = \\begin{bmatrix}x_1 \\\\ x_2\\end{bmatrix} \\\\[8pt]\n",
    "\\mathbf{A} = \\begin{bmatrix}1 & 2\\end{bmatrix} \\\\[8pt]\n",
    "\\mathbf{b} = \\begin{bmatrix}30\\end{bmatrix} \\\\[8pt]\n",
    "\\mathbf{Q} = \\begin{bmatrix}4 & -4 \\\\ -4 & 8\\end{bmatrix} \\\\[8pt]\n",
    "$$"
   ]
  },
  {
   "cell_type": "code",
   "execution_count": 12,
   "id": "dad10d48",
   "metadata": {},
   "outputs": [
    {
     "name": "stdout",
     "output_type": "stream",
     "text": [
      "     pcost       dcost       gap    pres   dres\n",
      " 0:  1.8367e+02  1.6439e+02  2e+01  0e+00  1e+00\n",
      " 1: -2.6042e+02 -5.7760e+02  3e+02  5e-16  7e-16\n",
      " 2: -2.8124e+02 -2.8852e+02  7e+00  5e-16  4e-16\n",
      " 3: -2.8125e+02 -2.8132e+02  7e-02  7e-16  1e-16\n",
      " 4: -2.8125e+02 -2.8125e+02  7e-04  2e-16  2e-16\n",
      " 5: -2.8125e+02 -2.8125e+02  7e-06  2e-16  1e-16\n",
      "Optimal solution found.\n",
      "[-1.50e+01]\n",
      "[-1.13e+01]\n",
      "\n"
     ]
    }
   ],
   "source": [
    "from cvxopt import matrix, solvers\n",
    "\n",
    "\n",
    "Q = matrix([[4., -4.], [-4., 8.]])\n",
    "c = matrix([15., 30.])\n",
    "A = matrix([1., 2.], (1, 2))\n",
    "b = matrix(30.)\n",
    "sol = solvers.qp(Q, c, A, b)\n",
    "print(sol['x'])"
   ]
  },
  {
   "cell_type": "code",
   "execution_count": null,
   "id": "aea822d5",
   "metadata": {},
   "outputs": [],
   "source": []
  },
  {
   "cell_type": "code",
   "execution_count": null,
   "id": "d5be261b",
   "metadata": {},
   "outputs": [],
   "source": []
  },
  {
   "cell_type": "code",
   "execution_count": null,
   "id": "5553ad82",
   "metadata": {},
   "outputs": [],
   "source": []
  }
 ],
 "metadata": {
  "kernelspec": {
   "display_name": "Python 3 (ipykernel)",
   "language": "python",
   "name": "python3"
  },
  "language_info": {
   "codemirror_mode": {
    "name": "ipython",
    "version": 3
   },
   "file_extension": ".py",
   "mimetype": "text/x-python",
   "name": "python",
   "nbconvert_exporter": "python",
   "pygments_lexer": "ipython3",
   "version": "3.8.11"
  }
 },
 "nbformat": 4,
 "nbformat_minor": 5
}
