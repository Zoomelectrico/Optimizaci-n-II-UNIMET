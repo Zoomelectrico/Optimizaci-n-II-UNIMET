{
 "cells": [
  {
   "cell_type": "markdown",
   "id": "fd3dfa60",
   "metadata": {},
   "source": [
    "# Modelo de Parcial III"
   ]
  },
  {
   "cell_type": "code",
   "execution_count": null,
   "id": "01e37c8a",
   "metadata": {},
   "outputs": [],
   "source": [
    "%matplotlib inline\n",
    "from __future__ import division\n",
    "import numpy as np\n",
    "import numpy.linalg as la\n",
    "import matplotlib.pyplot as plt\n",
    "from mpl_toolkits.mplot3d import Axes3D\n",
    "from scipy.optimize import newton, minimize_scalar, minimize\n",
    "from sympy import *"
   ]
  },
  {
   "cell_type": "markdown",
   "id": "1a9a2edd",
   "metadata": {},
   "source": [
    "## Pregunta 1\n",
    "\n",
    "Considere la función $f(x,y)$ encuentre:\n",
    "\n",
    "1. La grafica de la función \n",
    "2. Las derivadas parciales de $f$\n",
    "3. Los puntos criticos de la función\n",
    "\n",
    "$$\n",
    "f(x,y) = x^4 + y^4 - 4xy + 1\n",
    "$$"
   ]
  },
  {
   "cell_type": "code",
   "execution_count": null,
   "id": "7fbf49a4",
   "metadata": {},
   "outputs": [],
   "source": [
    "# Parte 1"
   ]
  },
  {
   "cell_type": "code",
   "execution_count": null,
   "id": "af5380d2",
   "metadata": {},
   "outputs": [],
   "source": [
    "# Parte 2\n"
   ]
  },
  {
   "cell_type": "code",
   "execution_count": null,
   "id": "d140b458",
   "metadata": {},
   "outputs": [],
   "source": [
    "# Parte 3\n"
   ]
  },
  {
   "cell_type": "markdown",
   "id": "6e1e9931",
   "metadata": {},
   "source": [
    "## Pregunta 2\n",
    "\n",
    "Considere la función $g(x)$ encuentre:\n",
    "\n",
    "1. La primera derivada de g(x)\n",
    "2. Los puntos críticos, utilizando el método de Newton-Raphson\n",
    "3. Gráfique dichos puntos y a la función\n",
    "\n",
    "$$\n",
    "g(x)= \\cos(x^2 - x) - x^4\n",
    "$$"
   ]
  },
  {
   "cell_type": "code",
   "execution_count": null,
   "id": "49630ae2",
   "metadata": {},
   "outputs": [],
   "source": [
    "# Parte 1\n"
   ]
  },
  {
   "cell_type": "code",
   "execution_count": null,
   "id": "03bf09e6",
   "metadata": {},
   "outputs": [],
   "source": [
    "# Parte 2\n"
   ]
  },
  {
   "cell_type": "code",
   "execution_count": null,
   "id": "01a36665",
   "metadata": {},
   "outputs": [],
   "source": [
    "# Parte 3\n"
   ]
  },
  {
   "cell_type": "markdown",
   "id": "0273d931",
   "metadata": {},
   "source": [
    "## Pregunta 3\n",
    "\n",
    "Considere a la función $f(\\mathbf{x})$ y las restricciones $g(\\mathbf{x})$ determine:\n",
    "\n",
    "1. sus puntos críticos con el método:\n",
    "1. Lagrangiano\n",
    "2. Númerico\n",
    "\n",
    "2. Determine si hay diferencia entre los resultados e indique por se puede dar\n",
    "\n",
    "$$\n",
    "f(x_1,x_2,x_3) = x_1^2 + x_2^2 + x_3^2 \n",
    "$$\n",
    "s.a\n",
    "\n",
    "$$\n",
    "g_1(x_1,x_2,x_3) = x_1 - x_2 - 1 \\\\[8 pt]\n",
    "g_2(x_1,x_2,x_3) = x_2^2 - x_3^2 - 1\n",
    "$$"
   ]
  },
  {
   "cell_type": "code",
   "execution_count": null,
   "id": "4cf5d69b",
   "metadata": {},
   "outputs": [],
   "source": [
    "# Parte 1.1"
   ]
  },
  {
   "cell_type": "code",
   "execution_count": null,
   "id": "bf651b41",
   "metadata": {},
   "outputs": [],
   "source": [
    "# Parte 1.2\n"
   ]
  },
  {
   "cell_type": "markdown",
   "id": "0e5f8d47",
   "metadata": {},
   "source": [
    "**Parte 2:**"
   ]
  },
  {
   "cell_type": "markdown",
   "id": "a92257f3",
   "metadata": {},
   "source": [
    "## Pregunta 4\n",
    "\n",
    "Considere la función $g(x,y)$ determine:\n",
    "\n",
    "1. Gráfique la función y sus curvas de nivel\n",
    "2. Determine el mínimo de la función utilizando el método del gradiente\n",
    "\n",
    "$$\n",
    "g(x,y) = x^2 - 2xy + 2y\n",
    "$$"
   ]
  },
  {
   "cell_type": "code",
   "execution_count": null,
   "id": "205ca92e",
   "metadata": {},
   "outputs": [],
   "source": [
    "# Parte 1\n"
   ]
  },
  {
   "cell_type": "code",
   "execution_count": null,
   "id": "399ba4fa",
   "metadata": {},
   "outputs": [],
   "source": []
  },
  {
   "cell_type": "code",
   "execution_count": null,
   "id": "93d1b2e3",
   "metadata": {},
   "outputs": [],
   "source": []
  },
  {
   "cell_type": "code",
   "execution_count": null,
   "id": "30782a7e",
   "metadata": {},
   "outputs": [],
   "source": []
  },
  {
   "cell_type": "code",
   "execution_count": null,
   "id": "da248280",
   "metadata": {},
   "outputs": [],
   "source": []
  },
  {
   "cell_type": "code",
   "execution_count": null,
   "id": "e8923856",
   "metadata": {},
   "outputs": [],
   "source": []
  }
 ],
 "metadata": {
  "kernelspec": {
   "display_name": "Python 3 (ipykernel)",
   "language": "python",
   "name": "python3"
  },
  "language_info": {
   "codemirror_mode": {
    "name": "ipython",
    "version": 3
   },
   "file_extension": ".py",
   "mimetype": "text/x-python",
   "name": "python",
   "nbconvert_exporter": "python",
   "pygments_lexer": "ipython3",
   "version": "3.8.11"
  }
 },
 "nbformat": 4,
 "nbformat_minor": 5
}
