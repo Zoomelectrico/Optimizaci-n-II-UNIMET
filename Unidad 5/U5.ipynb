{
 "cells": [
  {
   "cell_type": "code",
   "execution_count": 6,
   "id": "f07142c7",
   "metadata": {},
   "outputs": [
    {
     "name": "stdout",
     "output_type": "stream",
     "text": [
      "3628800\n"
     ]
    }
   ],
   "source": [
    "memo = {}\n",
    "\n",
    "def factorial(n):\n",
    "    \n",
    "    if (n == 1):\n",
    "        return 1\n",
    "    else:\n",
    "        memo[n] = n * factorial(n - 1)\n",
    "        return memo.get(n)\n",
    "\n",
    "print(factorial(10)) # 120"
   ]
  },
  {
   "cell_type": "code",
   "execution_count": 9,
   "id": "13ab0c38",
   "metadata": {},
   "outputs": [
    {
     "data": {
      "text/plain": [
       "5040"
      ]
     },
     "execution_count": 9,
     "metadata": {},
     "output_type": "execute_result"
    }
   ],
   "source": [
    "factorial(7)"
   ]
  },
  {
   "cell_type": "code",
   "execution_count": null,
   "id": "ead8d9d0",
   "metadata": {},
   "outputs": [],
   "source": []
  }
 ],
 "metadata": {
  "kernelspec": {
   "display_name": "Python 3 (ipykernel)",
   "language": "python",
   "name": "python3"
  },
  "language_info": {
   "codemirror_mode": {
    "name": "ipython",
    "version": 3
   },
   "file_extension": ".py",
   "mimetype": "text/x-python",
   "name": "python",
   "nbconvert_exporter": "python",
   "pygments_lexer": "ipython3",
   "version": "3.8.11"
  }
 },
 "nbformat": 4,
 "nbformat_minor": 5
}
